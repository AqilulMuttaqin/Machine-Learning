{
  "cells": [
    {
      "cell_type": "markdown",
      "metadata": {
        "id": "view-in-github",
        "colab_type": "text"
      },
      "source": [
        "<a href=\"https://colab.research.google.com/github/AqilulMuttaqin/Machine-Learning/blob/main/Jobsheet10.ipynb\" target=\"_parent\"><img src=\"https://colab.research.google.com/assets/colab-badge.svg\" alt=\"Open In Colab\"/></a>"
      ]
    },
    {
      "cell_type": "markdown",
      "metadata": {
        "id": "OTBrlupUZZey"
      },
      "source": [
        "## Praktikum 1"
      ]
    },
    {
      "cell_type": "markdown",
      "metadata": {
        "id": "BSDGo8XOZfLV"
      },
      "source": [
        "**RNN untuk Analisis Sentimen**"
      ]
    },
    {
      "cell_type": "markdown",
      "metadata": {
        "id": "80DKyTthe9uW"
      },
      "source": [
        "Impor matplotlib dan buat fungsi pembantu untuk memplot grafik:"
      ]
    },
    {
      "cell_type": "code",
      "execution_count": 1,
      "metadata": {
        "id": "yLFb1wfjZIYb"
      },
      "outputs": [],
      "source": [
        "import numpy as np\n",
        "import tensorflow_datasets as tfds\n",
        "import tensorflow as tf\n",
        "\n",
        "tfds.disable_progress_bar()"
      ]
    },
    {
      "cell_type": "code",
      "execution_count": 2,
      "metadata": {
        "id": "UX5r8oT5fB6J"
      },
      "outputs": [],
      "source": [
        "import matplotlib.pyplot as plt\n",
        "\n",
        "def plot_graphs(history, metric):\n",
        "  plt.plot(history.history[metric])\n",
        "  plt.plot(history.history['val_'+metric], '')\n",
        "  plt.xlabel(\"Epochs\")\n",
        "  plt.ylabel(metric)\n",
        "  plt.legend([metric, 'val_'+metric])"
      ]
    },
    {
      "cell_type": "markdown",
      "metadata": {
        "id": "Zex7qeK_fKxo"
      },
      "source": [
        "Dataset ulasan film IMDB adalah kumpulan data klasifikasi biner—semua ulasan memiliki sentimen positif atau negatif.\n",
        "Download dataset menggunakan TFDS. Lihat loading text tutorial jika ingin me load data secara manual"
      ]
    },
    {
      "cell_type": "code",
      "execution_count": 3,
      "metadata": {
        "colab": {
          "base_uri": "https://localhost:8080/"
        },
        "id": "QyKkY8VJfOBq",
        "outputId": "5779d60b-af0c-4804-83a4-85e8c3ba9424"
      },
      "outputs": [
        {
          "output_type": "stream",
          "name": "stdout",
          "text": [
            "Downloading and preparing dataset 80.23 MiB (download: 80.23 MiB, generated: Unknown size, total: 80.23 MiB) to /root/tensorflow_datasets/imdb_reviews/plain_text/1.0.0...\n",
            "Dataset imdb_reviews downloaded and prepared to /root/tensorflow_datasets/imdb_reviews/plain_text/1.0.0. Subsequent calls will reuse this data.\n"
          ]
        },
        {
          "output_type": "execute_result",
          "data": {
            "text/plain": [
              "(TensorSpec(shape=(), dtype=tf.string, name=None),\n",
              " TensorSpec(shape=(), dtype=tf.int64, name=None))"
            ]
          },
          "metadata": {},
          "execution_count": 3
        }
      ],
      "source": [
        "dataset, info = tfds.load('imdb_reviews', with_info=True,\n",
        "                          as_supervised=True)\n",
        "train_dataset, test_dataset = dataset['train'], dataset['test']\n",
        "\n",
        "train_dataset.element_spec"
      ]
    },
    {
      "cell_type": "markdown",
      "metadata": {
        "id": "Er9WGbSHgolU"
      },
      "source": [
        "Awalnya ini mengembalikan dataset (teks, pasangan label):"
      ]
    },
    {
      "cell_type": "code",
      "execution_count": 4,
      "metadata": {
        "colab": {
          "base_uri": "https://localhost:8080/"
        },
        "id": "oW_UBYJYgsOn",
        "outputId": "cac90e7f-9a22-42d7-e71d-41ce6d219512"
      },
      "outputs": [
        {
          "output_type": "stream",
          "name": "stdout",
          "text": [
            "text:  b\"This was an absolutely terrible movie. Don't be lured in by Christopher Walken or Michael Ironside. Both are great actors, but this must simply be their worst role in history. Even their great acting could not redeem this movie's ridiculous storyline. This movie is an early nineties US propaganda piece. The most pathetic scenes were those when the Columbian rebels were making their cases for revolutions. Maria Conchita Alonso appeared phony, and her pseudo-love affair with Walken was nothing but a pathetic emotional plug in a movie that was devoid of any real meaning. I am disappointed that there are movies like this, ruining actor's like Christopher Walken's good name. I could barely sit through it.\"\n",
            "label:  0\n"
          ]
        }
      ],
      "source": [
        "for example, label in train_dataset.take(1):\n",
        "  print('text: ', example.numpy())\n",
        "  print('label: ', label.numpy())"
      ]
    },
    {
      "cell_type": "markdown",
      "metadata": {
        "id": "S2TJ-3Y_gxjc"
      },
      "source": [
        "Berikutnya acak data untuk pelatihan dan membuat kumpulan pasangan (teks, label) ini:"
      ]
    },
    {
      "cell_type": "code",
      "execution_count": 5,
      "metadata": {
        "colab": {
          "base_uri": "https://localhost:8080/"
        },
        "id": "LAgvmgnKgyk_",
        "outputId": "42e2dbf3-62e4-4e69-8d27-698316bba7e2"
      },
      "outputs": [
        {
          "output_type": "stream",
          "name": "stdout",
          "text": [
            "texts:  [b'The movie Titanic makes it much more then just a \"night to remember.\" It re writes a tragic history event that will always be talked about and will never been forgotten. Why so criticised? I have no idea. Could/will they ever make a movie like Titanic that is so moving and touching every time you watch it. Could they ever replace such an epic masterpiece. It will be almost impossible.<br /><br />The director no doubt had the major impact on the film. A simple disaster film (boring to watch) converted to an unbelievable romance. Yes I\\'m not the Romance type either, but that should not bother you, because you will never see a romance like this. Guaranteed! Everything to the amazing effects, to the music, to the sublime acting. <br /><br />The movie creates an amazing visual and a wonderful feeling. Everything looks very real and live. The legend herself \"TITANIC\" is shown brilliantly in all classes, too looks, too accommodation. The acting was the real effect. Dicaprio and Winslet are simply the best at playing there roles. No one could have done better. They are partly the reason why the film is so great. <br /><br />I guess it\\'s not too much to talk about. The plot is simple, The acting is brilliant, based on a true story, Probably more then half of the consumers that watch the film will share tears, thanks to un imaginable ending which can never be forgotten. Well if you haven\\'t seen this film your missing out on something Hesterical, and a film to idolise for Hollywood. Could it get better? No. Not at all. The most moving film of all time, don\\'t listen to people, see for yourself then you will understand. A landmark. (don\\'t be surprised if you cry too)'\n",
            " b\"I remember when this came out a lot of kids were nuts about it. I guess I was a bit too old to get all excited and I was a fan of real martial arts films and always found this a bit cheesy.<br /><br />In the early 90's we were swamped with programs such as this making kids feel like they could fight and be a power ranger or an equal to these kids on 3 Ninjas. I think eventually parents and film makers alike got sick of it because all we had in reality was abunch of kids going around punching and hitting everyone.<br /><br />Many kids movies have some big point they're trying to make and its nice for your kids to watch and get the message, this one doesn't have any message at all...it just exploits a million difference things in less than 90 minutes.<br /><br />The movie has no great visual qualities but would one expect it to? The acting is pretty bad. Victor Wong is a cool actor but it was embarrassing to see him here.. The short, fat, gimped eyed old fart as a powerful ninja that was just hilarious. The kids over acted way too much and the youngest ninja Tum Tum was maybe the worst kid actor I have ever seen.<br /><br />The movie has a plot that anyone knows before they even read the review. 3 ninjas...yea you know they're gonna fight a bunch of bad guys and win obviously... Need I say more. Sorry if I spoiled it for anyone.<br /><br />With all that said KIDS WILL LOVE IT. This movie is aimed at kids and only children could enjoy it. If you don't mind your kid seeing movies about kids fighting this is a good movie to let them see. If you don't mind allowing your children to see complete garbage that has nothing to do with real martial arts, real acting or reality period then you have found a movie for your kids... I say kids because I think even the girls will like it... I recall all the girls having a crush on Rocky.<br /><br />2 out of 10 stars because I think you can make a movie for kids and still make it enjoyable for adults..this movie failed big time at that.. It is beyond cheesy and nothing original or unique and I would not allow a child of mine to watch it... Kung Fu the TV series is on DVD and there's tons of great Shaw Brothers films out there...Why not show your children things that will really entertain them and not make them dumb along the way, perhaps even teach them some moves and not just how to kick a man between the legs as grandpa did on 3 Ninjas...no no no...never kick a man between the legs ...never .. thats so unninja like.\"\n",
            " b'What horrible writing and acting. No personality. What, you can\\'t make a good movie with a single character? Hmm, it was done in Castaway with self dialog.<br /><br />So this kid goes on a trip to see his father. The kid, Jason, takes a plane and the pilot has a heart attack and dies mid-flight. So the kid crashes in a lake and survives. Then he runs around, surviving in the wilderness until he gets rescued.<br /><br />During that time he fights a bear twice. The first time he fights it off in the lake. The second time he makes a spear out of a branch and spears the bear. Two shots of fake blood spurting out of the bear\\'s chest reminded me of Monty Python\\'s \"The Holy Grail\".<br /><br />Also the kid decides to kick a porcupine with predictable results.<br /><br />Gag.']\n",
            "\n",
            "labels:  [1 0 0]\n"
          ]
        }
      ],
      "source": [
        "BUFFER_SIZE = 10000\n",
        "BATCH_SIZE = 64\n",
        "\n",
        "train_dataset = train_dataset.shuffle(BUFFER_SIZE).batch(BATCH_SIZE).prefetch(tf.data.AUTOTUNE)\n",
        "test_dataset = test_dataset.batch(BATCH_SIZE).prefetch(tf.data.AUTOTUNE)\n",
        "\n",
        "for example, label in train_dataset.take(1):\n",
        "  print('texts: ', example.numpy()[:3])\n",
        "  print()\n",
        "  print('labels: ', label.numpy()[:3])\n"
      ]
    },
    {
      "cell_type": "markdown",
      "metadata": {
        "id": "28eMBWW3g2mk"
      },
      "source": [
        "Buat Teks Encode\n",
        "\n",
        "Teks mentah yang dimuat oleh tfds perlu diproses sebelum dapat digunakan dalam model. Cara termudah memproses teks untuk pelatihan adalah menggunakan lapisan TextVectorization. Lapisan ini memiliki banyak kemampuan, namun pada tutorial ini menggunakan perilaku default. Buat lapisan tersebut, dan teruskan teks kumpulan data ke metode .adapt lapisan:"
      ]
    },
    {
      "cell_type": "code",
      "execution_count": 6,
      "metadata": {
        "id": "XfnHcRAZg8_3"
      },
      "outputs": [],
      "source": [
        "VOCAB_SIZE = 1000\n",
        "encoder = tf.keras.layers.TextVectorization(\n",
        "    max_tokens=VOCAB_SIZE)\n",
        "encoder.adapt(train_dataset.map(lambda text, label: text))"
      ]
    },
    {
      "cell_type": "markdown",
      "metadata": {
        "id": "gI2eRSJJhAQI"
      },
      "source": [
        "Metode .adapt mengatur kosakata lapisan. 20 token pertama dapat dilihat dengan kode berikut. Setelah padding dan token yang tidak diketahui, mereka diurutkan berdasarkan frekuensi:"
      ]
    },
    {
      "cell_type": "code",
      "execution_count": 7,
      "metadata": {
        "colab": {
          "base_uri": "https://localhost:8080/"
        },
        "id": "LM4rKSsDhBRQ",
        "outputId": "9b96080a-8220-457a-a1b0-c025d441cdde"
      },
      "outputs": [
        {
          "output_type": "execute_result",
          "data": {
            "text/plain": [
              "array(['', '[UNK]', 'the', 'and', 'a', 'of', 'to', 'is', 'in', 'it', 'i',\n",
              "       'this', 'that', 'br', 'was', 'as', 'for', 'with', 'movie', 'but'],\n",
              "      dtype='<U14')"
            ]
          },
          "metadata": {},
          "execution_count": 7
        }
      ],
      "source": [
        "vocab = np.array(encoder.get_vocabulary())\n",
        "vocab[:20]"
      ]
    },
    {
      "cell_type": "markdown",
      "metadata": {
        "id": "BRc0AfBUhHw5"
      },
      "source": [
        "Setelah kosakata diatur, lapisan dapat mengkodekan teks ke dalam indeks. Tensor indeks diberi bantalan 0 ke urutan terpanjang dalam batch (kecuali jika Anda menetapkan output_sequence_length tetap):"
      ]
    },
    {
      "cell_type": "code",
      "execution_count": 8,
      "metadata": {
        "colab": {
          "base_uri": "https://localhost:8080/"
        },
        "id": "EMypWxMihIy9",
        "outputId": "bb3bf1f3-0465-4a82-d70c-992ae3382f50"
      },
      "outputs": [
        {
          "output_type": "execute_result",
          "data": {
            "text/plain": [
              "array([[  2,  18,   1, ...,   0,   0,   0],\n",
              "       [ 10, 364,  51, ...,   0,   0,   0],\n",
              "       [ 49, 509, 485, ...,   0,   0,   0]])"
            ]
          },
          "metadata": {},
          "execution_count": 8
        }
      ],
      "source": [
        "encoded_example = encoder(example)[:3].numpy()\n",
        "encoded_example"
      ]
    },
    {
      "cell_type": "markdown",
      "metadata": {
        "id": "T3LcRIkthPtM"
      },
      "source": [
        "Dengan pengaturan default, prosesnya tidak dapat dibalik sepenuhnya. Ada dua alasan utama untuk itu:\n",
        "\n",
        "-Nilai default untuk argumen standarisasi preprocessing.TextVectorization adalah \"lower_and_strip_punctuation\".\n",
        "\n",
        "-Ukuran kosa kata yang terbatas dan kurangnya fallback berbasis karakter menghasilkan beberapa token yang tidak diketahui."
      ]
    },
    {
      "cell_type": "code",
      "execution_count": 9,
      "metadata": {
        "colab": {
          "base_uri": "https://localhost:8080/"
        },
        "id": "iV7naXAwhafu",
        "outputId": "df4996c4-5eb2-4375-fa76-39a343ca5952"
      },
      "outputs": [
        {
          "output_type": "stream",
          "name": "stdout",
          "text": [
            "Original:  b'The movie Titanic makes it much more then just a \"night to remember.\" It re writes a tragic history event that will always be talked about and will never been forgotten. Why so criticised? I have no idea. Could/will they ever make a movie like Titanic that is so moving and touching every time you watch it. Could they ever replace such an epic masterpiece. It will be almost impossible.<br /><br />The director no doubt had the major impact on the film. A simple disaster film (boring to watch) converted to an unbelievable romance. Yes I\\'m not the Romance type either, but that should not bother you, because you will never see a romance like this. Guaranteed! Everything to the amazing effects, to the music, to the sublime acting. <br /><br />The movie creates an amazing visual and a wonderful feeling. Everything looks very real and live. The legend herself \"TITANIC\" is shown brilliantly in all classes, too looks, too accommodation. The acting was the real effect. Dicaprio and Winslet are simply the best at playing there roles. No one could have done better. They are partly the reason why the film is so great. <br /><br />I guess it\\'s not too much to talk about. The plot is simple, The acting is brilliant, based on a true story, Probably more then half of the consumers that watch the film will share tears, thanks to un imaginable ending which can never be forgotten. Well if you haven\\'t seen this film your missing out on something Hesterical, and a film to idolise for Hollywood. Could it get better? No. Not at all. The most moving film of all time, don\\'t listen to people, see for yourself then you will understand. A landmark. (don\\'t be surprised if you cry too)'\n",
            "Round-trip:  the movie [UNK] makes it much more then just a night to remember it [UNK] [UNK] a [UNK] history [UNK] that will always be [UNK] about and will never been [UNK] why so [UNK] i have no idea [UNK] they ever make a movie like [UNK] that is so moving and [UNK] every time you watch it could they ever [UNK] such an [UNK] [UNK] it will be almost [UNK] br the director no doubt had the major [UNK] on the film a simple [UNK] film boring to watch [UNK] to an [UNK] romance yes im not the romance type either but that should not [UNK] you because you will never see a romance like this [UNK] everything to the amazing effects to the music to the [UNK] acting br br the movie [UNK] an amazing [UNK] and a wonderful feeling everything looks very real and live the [UNK] herself [UNK] is shown [UNK] in all [UNK] too looks too [UNK] the acting was the real effect [UNK] and [UNK] are simply the best at playing there roles no one could have done better they are [UNK] the reason why the film is so great br br i guess its not too much to talk about the plot is simple the acting is brilliant based on a true story probably more then half of the [UNK] that watch the film will [UNK] [UNK] [UNK] to [UNK] [UNK] ending which can never be [UNK] well if you havent seen this film your missing out on something [UNK] and a film to [UNK] for hollywood could it get better no not at all the most moving film of all time dont [UNK] to people see for yourself then you will understand a [UNK] dont be surprised if you [UNK] too                                                                                                                                                                                                                                                                                                                                                                                                                                                                                                                                                                                                                                          \n",
            "\n",
            "Original:  b\"I remember when this came out a lot of kids were nuts about it. I guess I was a bit too old to get all excited and I was a fan of real martial arts films and always found this a bit cheesy.<br /><br />In the early 90's we were swamped with programs such as this making kids feel like they could fight and be a power ranger or an equal to these kids on 3 Ninjas. I think eventually parents and film makers alike got sick of it because all we had in reality was abunch of kids going around punching and hitting everyone.<br /><br />Many kids movies have some big point they're trying to make and its nice for your kids to watch and get the message, this one doesn't have any message at all...it just exploits a million difference things in less than 90 minutes.<br /><br />The movie has no great visual qualities but would one expect it to? The acting is pretty bad. Victor Wong is a cool actor but it was embarrassing to see him here.. The short, fat, gimped eyed old fart as a powerful ninja that was just hilarious. The kids over acted way too much and the youngest ninja Tum Tum was maybe the worst kid actor I have ever seen.<br /><br />The movie has a plot that anyone knows before they even read the review. 3 ninjas...yea you know they're gonna fight a bunch of bad guys and win obviously... Need I say more. Sorry if I spoiled it for anyone.<br /><br />With all that said KIDS WILL LOVE IT. This movie is aimed at kids and only children could enjoy it. If you don't mind your kid seeing movies about kids fighting this is a good movie to let them see. If you don't mind allowing your children to see complete garbage that has nothing to do with real martial arts, real acting or reality period then you have found a movie for your kids... I say kids because I think even the girls will like it... I recall all the girls having a crush on Rocky.<br /><br />2 out of 10 stars because I think you can make a movie for kids and still make it enjoyable for adults..this movie failed big time at that.. It is beyond cheesy and nothing original or unique and I would not allow a child of mine to watch it... Kung Fu the TV series is on DVD and there's tons of great Shaw Brothers films out there...Why not show your children things that will really entertain them and not make them dumb along the way, perhaps even teach them some moves and not just how to kick a man between the legs as grandpa did on 3 Ninjas...no no no...never kick a man between the legs ...never .. thats so unninja like.\"\n",
            "Round-trip:  i remember when this came out a lot of kids were [UNK] about it i guess i was a bit too old to get all [UNK] and i was a fan of real [UNK] [UNK] films and always found this a bit [UNK] br in the early [UNK] we were [UNK] with [UNK] such as this making kids feel like they could fight and be a power [UNK] or an [UNK] to these kids on 3 [UNK] i think eventually parents and film [UNK] [UNK] got [UNK] of it because all we had in reality was [UNK] of kids going around [UNK] and [UNK] [UNK] br many kids movies have some big point theyre trying to make and its nice for your kids to watch and get the message this one doesnt have any message at [UNK] just [UNK] a [UNK] [UNK] things in less than [UNK] [UNK] br the movie has no great [UNK] [UNK] but would one expect it to the acting is pretty bad [UNK] [UNK] is a cool actor but it was [UNK] to see him here the short [UNK] [UNK] [UNK] old [UNK] as a powerful [UNK] that was just hilarious the kids over [UNK] way too much and the [UNK] [UNK] [UNK] [UNK] was maybe the worst kid actor i have ever [UNK] br the movie has a plot that anyone knows before they even read the review 3 [UNK] you know theyre [UNK] fight a bunch of bad guys and [UNK] obviously need i say more sorry if i [UNK] it for [UNK] br with all that said kids will love it this movie is [UNK] at kids and only children could enjoy it if you dont mind your kid seeing movies about kids fighting this is a good movie to let them see if you dont mind [UNK] your children to see complete [UNK] that has nothing to do with real [UNK] [UNK] real acting or reality period then you have found a movie for your kids i say kids because i think even the girls will like it i [UNK] all the girls having a [UNK] on [UNK] br 2 out of 10 stars because i think you can make a movie for kids and still make it enjoyable for [UNK] movie [UNK] big time at that it is beyond cheesy and nothing original or unique and i would not [UNK] a child of [UNK] to watch it [UNK] [UNK] the tv series is on dvd and theres [UNK] of great [UNK] brothers films out [UNK] not show your children things that will really [UNK] them and not make them dumb along the way perhaps even [UNK] them some [UNK] and not just how to [UNK] a man between the [UNK] as [UNK] did on 3 [UNK] no [UNK] [UNK] a man between the [UNK] never thats so [UNK] like                                                                                                                                                                                                                                                                                                                                                                                                                                                     \n",
            "\n",
            "Original:  b'What horrible writing and acting. No personality. What, you can\\'t make a good movie with a single character? Hmm, it was done in Castaway with self dialog.<br /><br />So this kid goes on a trip to see his father. The kid, Jason, takes a plane and the pilot has a heart attack and dies mid-flight. So the kid crashes in a lake and survives. Then he runs around, surviving in the wilderness until he gets rescued.<br /><br />During that time he fights a bear twice. The first time he fights it off in the lake. The second time he makes a spear out of a branch and spears the bear. Two shots of fake blood spurting out of the bear\\'s chest reminded me of Monty Python\\'s \"The Holy Grail\".<br /><br />Also the kid decides to kick a porcupine with predictable results.<br /><br />Gag.'\n",
            "Round-trip:  what horrible writing and acting no [UNK] what you cant make a good movie with a single character [UNK] it was done in [UNK] with [UNK] [UNK] br so this kid goes on a [UNK] to see his father the kid [UNK] takes a [UNK] and the [UNK] has a heart [UNK] and [UNK] [UNK] so the kid [UNK] in a [UNK] and [UNK] then he [UNK] around [UNK] in the [UNK] until he gets [UNK] br during that time he [UNK] a [UNK] [UNK] the first time he [UNK] it off in the [UNK] the second time he makes a [UNK] out of a [UNK] and [UNK] the [UNK] two shots of [UNK] blood [UNK] out of the [UNK] [UNK] [UNK] me of [UNK] [UNK] the [UNK] [UNK] br also the kid [UNK] to [UNK] a [UNK] with predictable [UNK] br [UNK]                                                                                                                                                                                                                                                                                                                                                                                                                                                                                                                                                                                                                                                                                                                                                                                                     \n",
            "\n"
          ]
        }
      ],
      "source": [
        "for n in range(3):\n",
        "  print(\"Original: \", example[n].numpy())\n",
        "  print(\"Round-trip: \", \" \".join(vocab[encoded_example[n]]))\n",
        "  print()"
      ]
    },
    {
      "cell_type": "markdown",
      "metadata": {
        "id": "IJ4vxS8JhbkK"
      },
      "source": [
        "Buat Model"
      ]
    },
    {
      "cell_type": "code",
      "execution_count": 10,
      "metadata": {
        "id": "XIOZtVNqhipN"
      },
      "outputs": [],
      "source": [
        "model = tf.keras.Sequential([\n",
        "    encoder,\n",
        "    tf.keras.layers.Embedding(\n",
        "        input_dim=len(encoder.get_vocabulary()),\n",
        "        output_dim=64,\n",
        "        # Use masking to handle the variable sequence lengths\n",
        "        mask_zero=True),\n",
        "    tf.keras.layers.Bidirectional(tf.keras.layers.LSTM(64)),\n",
        "    tf.keras.layers.Dense(64, activation='relu'),\n",
        "    tf.keras.layers.Dense(1)\n",
        "])"
      ]
    },
    {
      "cell_type": "markdown",
      "metadata": {
        "id": "SU1mLzH-hmD5"
      },
      "source": [
        "Harap dicatat bahwa model sekuensial Keras digunakan di sini karena semua lapisan dalam model hanya memiliki masukan tunggal dan menghasilkan keluaran tunggal. Jika Anda ingin menggunakan lapisan RNN stateful, Anda mungkin ingin membangun model Anda dengan API fungsional Keras atau subkelas model sehingga Anda dapat mengambil dan menggunakan kembali status lapisan RNN. Untuk detailnya bisa dilihat pada Keras RNN guide\n",
        "Lapisan penyematan menggunakan masking (uses masking ) untuk menangani panjang urutan yang bervariasi. Semua lapisan setelah penyematan dukungan penyematan"
      ]
    },
    {
      "cell_type": "code",
      "execution_count": 11,
      "metadata": {
        "colab": {
          "base_uri": "https://localhost:8080/"
        },
        "id": "2PKiyAXphnfI",
        "outputId": "a08e204e-13c2-4bc6-a22a-3973bf70ed22"
      },
      "outputs": [
        {
          "output_type": "stream",
          "name": "stdout",
          "text": [
            "[False, True, True, True, True]\n"
          ]
        }
      ],
      "source": [
        "print([layer.supports_masking for layer in model.layers])"
      ]
    },
    {
      "cell_type": "markdown",
      "metadata": {
        "id": "2XifeMWThsmb"
      },
      "source": [
        "Untuk memastikan bahwa ini berfungsi seperti yang diharapkan, evaluasi sebuah kalimat dua kali. Pertama, satu kalimat sehingga tidak ada bantalan (padding) untuk disamarkan:"
      ]
    },
    {
      "cell_type": "code",
      "execution_count": 12,
      "metadata": {
        "colab": {
          "base_uri": "https://localhost:8080/"
        },
        "id": "kXKMWJCVhuu_",
        "outputId": "83816ddc-df94-490c-d4ab-91a345614337"
      },
      "outputs": [
        {
          "output_type": "stream",
          "name": "stdout",
          "text": [
            "1/1 [==============================] - 7s 7s/step\n",
            "[-0.00485913]\n"
          ]
        }
      ],
      "source": [
        "# predict on a sample text without padding.\n",
        "\n",
        "sample_text = ('The movie was cool. The animation and the graphics '\n",
        "               'were out of this world. I would recommend this movie.')\n",
        "predictions = model.predict(np.array([sample_text]))\n",
        "print(predictions[0])"
      ]
    },
    {
      "cell_type": "markdown",
      "metadata": {
        "id": "5Fj2Vxhqhx9l"
      },
      "source": [
        "Sekarang, evaluasi lagi dalam batch dengan kalimat yang lebih panjang. Hasilnya harus sama:"
      ]
    },
    {
      "cell_type": "code",
      "execution_count": 13,
      "metadata": {
        "colab": {
          "base_uri": "https://localhost:8080/"
        },
        "id": "Thgg82Uahy2Q",
        "outputId": "a1acedc3-82d9-41c5-dff8-255d9068d0c2"
      },
      "outputs": [
        {
          "output_type": "stream",
          "name": "stdout",
          "text": [
            "1/1 [==============================] - 0s 62ms/step\n",
            "[-0.00485913]\n"
          ]
        }
      ],
      "source": [
        "# predict on a sample text with padding\n",
        "\n",
        "padding = \"the \" * 2000\n",
        "predictions = model.predict(np.array([sample_text, padding]))\n",
        "print(predictions[0])"
      ]
    },
    {
      "cell_type": "markdown",
      "metadata": {
        "id": "YDeERv9qh1tm"
      },
      "source": [
        "compile model Keras untuk mengonfigurasi proses pelatihan:"
      ]
    },
    {
      "cell_type": "code",
      "execution_count": 14,
      "metadata": {
        "id": "pNdBgtK3h4vk"
      },
      "outputs": [],
      "source": [
        "model.compile(loss=tf.keras.losses.BinaryCrossentropy(from_logits=True),\n",
        "              optimizer=tf.keras.optimizers.Adam(1e-4),\n",
        "              metrics=['accuracy'])"
      ]
    },
    {
      "cell_type": "markdown",
      "metadata": {
        "id": "rVeKYe21h7LE"
      },
      "source": [
        "Train Model"
      ]
    },
    {
      "cell_type": "code",
      "execution_count": 15,
      "metadata": {
        "colab": {
          "base_uri": "https://localhost:8080/"
        },
        "id": "couljQWKh9KB",
        "outputId": "2cb02133-1dfa-43c6-ad93-47316e4ff3d6"
      },
      "outputs": [
        {
          "output_type": "stream",
          "name": "stdout",
          "text": [
            "Epoch 1/10\n",
            "391/391 [==============================] - 51s 106ms/step - loss: 0.6444 - accuracy: 0.5652 - val_loss: 0.5376 - val_accuracy: 0.7297\n",
            "Epoch 2/10\n",
            "391/391 [==============================] - 26s 65ms/step - loss: 0.4290 - accuracy: 0.7912 - val_loss: 0.3872 - val_accuracy: 0.8266\n",
            "Epoch 3/10\n",
            "391/391 [==============================] - 26s 66ms/step - loss: 0.3737 - accuracy: 0.8336 - val_loss: 0.3531 - val_accuracy: 0.8516\n",
            "Epoch 4/10\n",
            "391/391 [==============================] - 25s 63ms/step - loss: 0.3289 - accuracy: 0.8578 - val_loss: 0.3350 - val_accuracy: 0.8578\n",
            "Epoch 5/10\n",
            "391/391 [==============================] - 26s 67ms/step - loss: 0.3184 - accuracy: 0.8650 - val_loss: 0.3309 - val_accuracy: 0.8521\n",
            "Epoch 6/10\n",
            "391/391 [==============================] - 26s 65ms/step - loss: 0.3083 - accuracy: 0.8672 - val_loss: 0.3241 - val_accuracy: 0.8609\n",
            "Epoch 7/10\n",
            "391/391 [==============================] - 27s 67ms/step - loss: 0.3034 - accuracy: 0.8706 - val_loss: 0.3223 - val_accuracy: 0.8583\n",
            "Epoch 8/10\n",
            "391/391 [==============================] - 26s 66ms/step - loss: 0.2993 - accuracy: 0.8727 - val_loss: 0.3295 - val_accuracy: 0.8615\n",
            "Epoch 9/10\n",
            "391/391 [==============================] - 26s 65ms/step - loss: 0.2978 - accuracy: 0.8738 - val_loss: 0.3173 - val_accuracy: 0.8568\n",
            "Epoch 10/10\n",
            "391/391 [==============================] - 26s 66ms/step - loss: 0.2956 - accuracy: 0.8746 - val_loss: 0.3181 - val_accuracy: 0.8604\n"
          ]
        }
      ],
      "source": [
        "history = model.fit(train_dataset, epochs=10,\n",
        "                    validation_data=test_dataset,\n",
        "                    validation_steps=30)"
      ]
    },
    {
      "cell_type": "code",
      "execution_count": 16,
      "metadata": {
        "colab": {
          "base_uri": "https://localhost:8080/"
        },
        "id": "WCJTH23BiD_4",
        "outputId": "1e8581a7-98ab-4115-d3a0-b1bbfd0606aa"
      },
      "outputs": [
        {
          "output_type": "stream",
          "name": "stdout",
          "text": [
            "391/391 [==============================] - 12s 31ms/step - loss: 0.3139 - accuracy: 0.8627\n",
            "Test Loss: 0.31385141611099243\n",
            "Test Accuracy: 0.8626800179481506\n"
          ]
        }
      ],
      "source": [
        "test_loss, test_acc = model.evaluate(test_dataset)\n",
        "\n",
        "print('Test Loss:', test_loss)\n",
        "print('Test Accuracy:', test_acc)"
      ]
    },
    {
      "cell_type": "code",
      "execution_count": 17,
      "metadata": {
        "colab": {
          "base_uri": "https://localhost:8080/",
          "height": 363
        },
        "id": "71Cj2dIGiGIt",
        "outputId": "0ffc3d97-0bf7-4dd4-91b2-8b67c4d66e65"
      },
      "outputs": [
        {
          "output_type": "execute_result",
          "data": {
            "text/plain": [
              "(0.0, 0.6618798807263374)"
            ]
          },
          "metadata": {},
          "execution_count": 17
        },
        {
          "output_type": "display_data",
          "data": {
            "text/plain": [
              "<Figure size 1600x800 with 2 Axes>"
            ],
            "image/png": "[encoded data removed]"
          },
          "metadata": {}
        }
      ],
      "source": [
        "plt.figure(figsize=(16, 8))\n",
        "plt.subplot(1, 2, 1)\n",
        "plot_graphs(history, 'accuracy')\n",
        "plt.ylim(None, 1)\n",
        "plt.subplot(1, 2, 2)\n",
        "plot_graphs(history, 'loss')\n",
        "plt.ylim(0, None)"
      ]
    },
    {
      "cell_type": "markdown",
      "metadata": {
        "id": "zifybJa-iKUr"
      },
      "source": [
        "Jalankan prediksi pada kalimat baru:\n",
        "Jika prediksi >= 0,0 berarti positif, jika tidak maka negatif."
      ]
    },
    {
      "cell_type": "code",
      "execution_count": 18,
      "metadata": {
        "colab": {
          "base_uri": "https://localhost:8080/"
        },
        "id": "nUpqejUZiNLq",
        "outputId": "e22b4e2a-164f-4158-85c5-b802e9141fb8"
      },
      "outputs": [
        {
          "output_type": "stream",
          "name": "stdout",
          "text": [
            "1/1 [==============================] - 3s 3s/step\n"
          ]
        }
      ],
      "source": [
        "sample_text = ('The movie was cool. The animation and the graphics '\n",
        "              'were out of this world. I would recommend this movie.')\n",
        "predictions = model.predict(np.array([sample_text]))"
      ]
    },
    {
      "cell_type": "markdown",
      "metadata": {
        "id": "TTwOb6vtiSDf"
      },
      "source": [
        "Stack two or more LSTM layers\n",
        "\n",
        "Lapisan berulang Keras memiliki dua mode yang tersedia yang dikontrol oleh argumen konstruktor return_sequences :\n",
        "\n",
        "-Jika False, ia hanya mengembalikan keluaran terakhir untuk setiap urutan masukan (bentuk tensor 2D (batch_size, output_features)). Ini adalah default yang digunakan pada model sebelumnya.\n",
        "\n",
        "-Jika True, Sequence lengkap output berturut-turut untuk setiap langkah waktu dikembalikan (bentuk tensor 3D (ukuran_batch, langkah waktu, fitur_output)).\n",
        "\n",
        "Hal yang menarik dari penggunaan RNN dengan return_sequences=True adalah outputnya masih memiliki 3 axis, sama seperti inputnya, sehingga bisa diteruskan ke layer RNN lain, seperti ini:"
      ]
    },
    {
      "cell_type": "code",
      "execution_count": 19,
      "metadata": {
        "id": "PcLBVqepicpw"
      },
      "outputs": [],
      "source": [
        "model = tf.keras.Sequential([\n",
        "    encoder,\n",
        "    tf.keras.layers.Embedding(len(encoder.get_vocabulary()), 64, mask_zero=True),\n",
        "    tf.keras.layers.Bidirectional(tf.keras.layers.LSTM(64, return_sequences=True)),\n",
        "    tf.keras.layers.Bidirectional(tf.keras.layers.LSTM(32)),\n",
        "    tf.keras.layers.Dense(64, activation='relu'),\n",
        "    tf.keras.layers.Dropout(0.5),\n",
        "    tf.keras.layers.Dense(1)\n",
        "])"
      ]
    },
    {
      "cell_type": "code",
      "execution_count": 20,
      "metadata": {
        "id": "ANF-5mL0inS7"
      },
      "outputs": [],
      "source": [
        "model.compile(loss=tf.keras.losses.BinaryCrossentropy(from_logits=True),\n",
        "              optimizer=tf.keras.optimizers.Adam(1e-4),\n",
        "              metrics=['accuracy'])"
      ]
    },
    {
      "cell_type": "code",
      "execution_count": 21,
      "metadata": {
        "id": "4mQ71lWdiseR",
        "colab": {
          "base_uri": "https://localhost:8080/"
        },
        "outputId": "750ab4ad-2a6b-41a8-86a3-d3c430b3ff5a"
      },
      "outputs": [
        {
          "output_type": "stream",
          "name": "stdout",
          "text": [
            "Epoch 1/10\n",
            "391/391 [==============================] - 78s 154ms/step - loss: 0.6480 - accuracy: 0.5618 - val_loss: 0.4948 - val_accuracy: 0.7807\n",
            "Epoch 2/10\n",
            "391/391 [==============================] - 47s 121ms/step - loss: 0.4153 - accuracy: 0.8156 - val_loss: 0.3855 - val_accuracy: 0.8229\n",
            "Epoch 3/10\n",
            "391/391 [==============================] - 47s 119ms/step - loss: 0.3564 - accuracy: 0.8486 - val_loss: 0.3537 - val_accuracy: 0.8406\n",
            "Epoch 4/10\n",
            "391/391 [==============================] - 48s 122ms/step - loss: 0.3336 - accuracy: 0.8592 - val_loss: 0.3353 - val_accuracy: 0.8448\n",
            "Epoch 5/10\n",
            "391/391 [==============================] - 45s 115ms/step - loss: 0.3199 - accuracy: 0.8640 - val_loss: 0.3232 - val_accuracy: 0.8516\n",
            "Epoch 6/10\n",
            "391/391 [==============================] - 46s 118ms/step - loss: 0.3125 - accuracy: 0.8674 - val_loss: 0.3231 - val_accuracy: 0.8552\n",
            "Epoch 7/10\n",
            "391/391 [==============================] - 45s 115ms/step - loss: 0.3045 - accuracy: 0.8698 - val_loss: 0.3230 - val_accuracy: 0.8542\n",
            "Epoch 8/10\n",
            "391/391 [==============================] - 45s 115ms/step - loss: 0.3042 - accuracy: 0.8702 - val_loss: 0.3214 - val_accuracy: 0.8510\n",
            "Epoch 9/10\n",
            "391/391 [==============================] - 46s 118ms/step - loss: 0.3014 - accuracy: 0.8719 - val_loss: 0.3164 - val_accuracy: 0.8641\n",
            "Epoch 10/10\n",
            "391/391 [==============================] - 46s 116ms/step - loss: 0.2980 - accuracy: 0.8715 - val_loss: 0.3202 - val_accuracy: 0.8625\n"
          ]
        }
      ],
      "source": [
        "history = model.fit(train_dataset, epochs=10,\n",
        "                    validation_data=test_dataset,\n",
        "                    validation_steps=30)"
      ]
    },
    {
      "cell_type": "code",
      "execution_count": 22,
      "metadata": {
        "id": "PL9ggAPWiyCK",
        "colab": {
          "base_uri": "https://localhost:8080/"
        },
        "outputId": "537e792f-6d45-4453-aa31-76aea39ef8e7"
      },
      "outputs": [
        {
          "output_type": "stream",
          "name": "stdout",
          "text": [
            "391/391 [==============================] - 19s 48ms/step - loss: 0.3203 - accuracy: 0.8626\n",
            "Test Loss: 0.3202635645866394\n",
            "Test Accuracy: 0.8626000285148621\n"
          ]
        }
      ],
      "source": [
        "test_loss, test_acc = model.evaluate(test_dataset)\n",
        "\n",
        "print('Test Loss:', test_loss)\n",
        "print('Test Accuracy:', test_acc)"
      ]
    },
    {
      "cell_type": "code",
      "execution_count": 23,
      "metadata": {
        "id": "Q02zprW1i0zW",
        "colab": {
          "base_uri": "https://localhost:8080/"
        },
        "outputId": "73bc8231-6d7b-4b93-ae09-202dd0103a78"
      },
      "outputs": [
        {
          "output_type": "stream",
          "name": "stdout",
          "text": [
            "1/1 [==============================] - 6s 6s/step\n",
            "[[-1.4269427]]\n"
          ]
        }
      ],
      "source": [
        "# predict on a sample text without padding.\n",
        "\n",
        "sample_text = ('The movie was not good. The animation and the graphics '\n",
        "              'were terrible. I would not recommend this movie.')\n",
        "predictions = model.predict(np.array([sample_text]))\n",
        "print(predictions)"
      ]
    },
    {
      "cell_type": "code",
      "execution_count": 24,
      "metadata": {
        "id": "pmW1bsTni5Dy",
        "colab": {
          "base_uri": "https://localhost:8080/",
          "height": 267
        },
        "outputId": "da9d2a88-2a36-4ae8-d3cc-0c1a203945ae"
      },
      "outputs": [
        {
          "output_type": "display_data",
          "data": {
            "text/plain": [
              "<Figure size 1600x600 with 2 Axes>"
            ],
            "image/png": "[encoded data removed]"
          },
          "metadata": {}
        }
      ],
      "source": [
        "plt.figure(figsize=(16, 6))\n",
        "plt.subplot(1, 2, 1)\n",
        "plot_graphs(history, 'accuracy')\n",
        "plt.subplot(1, 2, 2)\n",
        "plot_graphs(history, 'loss')"
      ]
    },
    {
      "cell_type": "markdown",
      "source": [
        "## Praktikum 2"
      ],
      "metadata": {
        "id": "ZEVGv9RxwNTk"
      }
    },
    {
      "cell_type": "markdown",
      "source": [
        "Praktikum ini mendemonstrasikan cara melakukan genearsi text menggunakan RNN. Dataset yang digunkan adalah dataset Shakespeare's writing from Andrej Karpathy's The Unreasonable Effectiveness of Recurrent Neural Networks. Jika diberikan urutan karakter dari data ini (\"Shakespear\"), latih model untuk memprediksi karakter berikutnya dalam urutan (\"e\"). Urutan teks yang lebih panjang dapat dihasilkan dengan memanggil model berulang kali."
      ],
      "metadata": {
        "id": "ton9AqPTwXaa"
      }
    },
    {
      "cell_type": "markdown",
      "source": [
        "**Setup**"
      ],
      "metadata": {
        "id": "eaVJgNJBwc_f"
      }
    },
    {
      "cell_type": "markdown",
      "source": [
        "Import TensorFlow"
      ],
      "metadata": {
        "id": "nkQUU6HtwfHB"
      }
    },
    {
      "cell_type": "code",
      "source": [
        "import tensorflow as tf\n",
        "import numpy as np\n",
        "import os\n",
        "import time"
      ],
      "metadata": {
        "id": "eDmaoLB5wksV"
      },
      "execution_count": 25,
      "outputs": []
    },
    {
      "cell_type": "markdown",
      "source": [
        "Download Dataset Shakespeare"
      ],
      "metadata": {
        "id": "3XnP7t-3wlnG"
      }
    },
    {
      "cell_type": "code",
      "source": [
        "path_to_file = tf.keras.utils.get_file('shakespeare.txt', 'https://storage.googleapis.com/download.tensorflow.org/data/shakespeare.txt')"
      ],
      "metadata": {
        "id": "3aSQf17Bwo2_"
      },
      "execution_count": 28,
      "outputs": []
    },
    {
      "cell_type": "markdown",
      "source": [
        "Load Data"
      ],
      "metadata": {
        "id": "eOLZWbLqwv-_"
      }
    },
    {
      "cell_type": "code",
      "source": [
        "# Read, then decode for py2 compat.\n",
        "text = open(path_to_file, 'rb').read().decode(encoding='utf-8')\n",
        "# length of text is the number of characters in it\n",
        "print(f'Length of text: {len(text)} characters')"
      ],
      "metadata": {
        "colab": {
          "base_uri": "https://localhost:8080/"
        },
        "id": "ZpQNnzyVwx-m",
        "outputId": "678ba59f-b6e5-4989-cb63-a722e57188e9"
      },
      "execution_count": 29,
      "outputs": [
        {
          "output_type": "stream",
          "name": "stdout",
          "text": [
            "Length of text: 1115394 characters\n"
          ]
        }
      ]
    },
    {
      "cell_type": "code",
      "source": [
        "# Take a look at the first 250 characters in text\n",
        "print(text[:250])"
      ],
      "metadata": {
        "colab": {
          "base_uri": "https://localhost:8080/"
        },
        "id": "QLZW3ON2wzsi",
        "outputId": "030bfc0a-56ee-4cde-c03a-e4ea22b805a9"
      },
      "execution_count": 30,
      "outputs": [
        {
          "output_type": "stream",
          "name": "stdout",
          "text": [
            "First Citizen:\n",
            "Before we proceed any further, hear me speak.\n",
            "\n",
            "All:\n",
            "Speak, speak.\n",
            "\n",
            "First Citizen:\n",
            "You are all resolved rather to die than to famish?\n",
            "\n",
            "All:\n",
            "Resolved. resolved.\n",
            "\n",
            "First Citizen:\n",
            "First, you know Caius Marcius is chief enemy to the people.\n",
            "\n"
          ]
        }
      ]
    },
    {
      "cell_type": "code",
      "source": [
        "# The unique characters in the file\n",
        "vocab = sorted(set(text))\n",
        "print(f'{len(vocab)} unique characters')"
      ],
      "metadata": {
        "colab": {
          "base_uri": "https://localhost:8080/"
        },
        "id": "VkOmAgV9w1cN",
        "outputId": "6ffbd6be-4da0-4381-efb2-ecf87f0d9f33"
      },
      "execution_count": 31,
      "outputs": [
        {
          "output_type": "stream",
          "name": "stdout",
          "text": [
            "65 unique characters\n"
          ]
        }
      ]
    },
    {
      "cell_type": "markdown",
      "source": [
        "**Olah Teks**"
      ],
      "metadata": {
        "id": "KCjDZAmswy5J"
      }
    },
    {
      "cell_type": "markdown",
      "source": [
        "Vectorize Teks\n",
        "\n",
        "Sebelum training, Anda perlu mengonversi string menjadi representasi numerik. tf.keras.layers.StringLookup dapat mengubah setiap karakter menjadi ID numerik. Caranya adalah teks akan dipecah menjadi token terlebih dahulu."
      ],
      "metadata": {
        "id": "WdFvklm4w6rX"
      }
    },
    {
      "cell_type": "code",
      "source": [
        "example_texts = ['abcdefg', 'xyz']\n",
        "chars = tf.strings.unicode_split(example_texts, input_encoding='UTF-8')\n",
        "chars"
      ],
      "metadata": {
        "colab": {
          "base_uri": "https://localhost:8080/"
        },
        "id": "rLfRv5G1w_A5",
        "outputId": "91cb71b6-a402-4af7-e2cf-35c62a55ebf8"
      },
      "execution_count": 32,
      "outputs": [
        {
          "output_type": "execute_result",
          "data": {
            "text/plain": [
              "<tf.RaggedTensor [[b'a', b'b', b'c', b'd', b'e', b'f', b'g'], [b'x', b'y', b'z']]>"
            ]
          },
          "metadata": {},
          "execution_count": 32
        }
      ]
    },
    {
      "cell_type": "markdown",
      "source": [
        "buat tf.keras.layers.StringLookup layer:"
      ],
      "metadata": {
        "id": "sw9bAOCpxGi0"
      }
    },
    {
      "cell_type": "code",
      "source": [
        "ids_from_chars = tf.keras.layers.StringLookup(vocabulary=list(vocab),mask_token=None)"
      ],
      "metadata": {
        "id": "2yarfS4kxLoI"
      },
      "execution_count": 33,
      "outputs": []
    },
    {
      "cell_type": "markdown",
      "source": [
        "perintah diatas mengconvert token menjadi id"
      ],
      "metadata": {
        "id": "28Nzyb20xLGF"
      }
    },
    {
      "cell_type": "code",
      "source": [
        "ids = ids_from_chars(chars)\n",
        "ids"
      ],
      "metadata": {
        "colab": {
          "base_uri": "https://localhost:8080/"
        },
        "id": "x3SB9tUpxVVj",
        "outputId": "b919e0bc-512d-4d55-c82e-6b013a0a82dc"
      },
      "execution_count": 34,
      "outputs": [
        {
          "output_type": "execute_result",
          "data": {
            "text/plain": [
              "<tf.RaggedTensor [[40, 41, 42, 43, 44, 45, 46], [63, 64, 65]]>"
            ]
          },
          "metadata": {},
          "execution_count": 34
        }
      ]
    },
    {
      "cell_type": "markdown",
      "source": [
        "Karena tujuan tutorial ini adalah untuk menghasilkan teks, penting juga untuk membalikkan representasi ini. Untuk ini Anda dapat menggunakan kode tf.keras.layers.StringLookup(..., invert=True).\n",
        "\n",
        "Catatan: pada kode ini, daripada meneruskan kosakata asli yang dihasilkan dengan diurutkan(set(teks)) gunakan metode get_vocabulary() dari tf.keras.layers.StringLookup sehingga token [UNK] disetel dengan cara yang sama."
      ],
      "metadata": {
        "id": "QYeFLcj9xaRz"
      }
    },
    {
      "cell_type": "code",
      "source": [
        "chars_from_ids = tf.keras.layers.StringLookup(\n",
        "    vocabulary=ids_from_chars.get_vocabulary(), invert=True, mask_token=None)"
      ],
      "metadata": {
        "id": "UoQUzbPAxceh"
      },
      "execution_count": 35,
      "outputs": []
    },
    {
      "cell_type": "markdown",
      "source": [
        "Lapisan ini mengconvert kembali karakter dari vektor ID, dan mengembalikannya sebagai karakter tf.RaggedTensor:"
      ],
      "metadata": {
        "id": "onUUCH88xgRz"
      }
    },
    {
      "cell_type": "code",
      "source": [
        "chars = chars_from_ids(ids)\n",
        "chars"
      ],
      "metadata": {
        "colab": {
          "base_uri": "https://localhost:8080/"
        },
        "id": "oHAAqWUoxhG6",
        "outputId": "9fa8c19e-ebec-4872-de23-c74d7fb4349a"
      },
      "execution_count": 36,
      "outputs": [
        {
          "output_type": "execute_result",
          "data": {
            "text/plain": [
              "<tf.RaggedTensor [[b'a', b'b', b'c', b'd', b'e', b'f', b'g'], [b'x', b'y', b'z']]>"
            ]
          },
          "metadata": {},
          "execution_count": 36
        }
      ]
    },
    {
      "cell_type": "markdown",
      "source": [
        "Anda dapat menggunakan tf.strings.reduce_join untuk menggabungkan kembali karakter menjadi string."
      ],
      "metadata": {
        "id": "x9bKyKd3xkxy"
      }
    },
    {
      "cell_type": "code",
      "source": [
        "tf.strings.reduce_join(chars, axis=-1).numpy()"
      ],
      "metadata": {
        "colab": {
          "base_uri": "https://localhost:8080/"
        },
        "id": "1wJx7TlOxkcM",
        "outputId": "174854f6-0e7a-4d3d-a9af-66928d7636d1"
      },
      "execution_count": 37,
      "outputs": [
        {
          "output_type": "execute_result",
          "data": {
            "text/plain": [
              "array([b'abcdefg', b'xyz'], dtype=object)"
            ]
          },
          "metadata": {},
          "execution_count": 37
        }
      ]
    },
    {
      "cell_type": "code",
      "source": [
        "def text_from_ids(ids):\n",
        "    return tf.strings.reduce_join(chars_from_ids(ids), axis=-1)"
      ],
      "metadata": {
        "id": "3KrQmQ5YxpTz"
      },
      "execution_count": 38,
      "outputs": []
    },
    {
      "cell_type": "markdown",
      "source": [
        "**Prediksi**\n",
        "\n",
        "Diberikan sebuah karakter, atau serangkaian karakter, karakter apa yang paling mungkin berikutnya? Ini adalah tugas yang harus Anda latih agar model dapat melakukannya. Masukan ke model akan berupa urutan karakter, dan Anda melatih model untuk memprediksi keluaran berupa karakter berikut pada setiap langkah waktu. Karena RNN mempertahankan keadaan internal yang bergantung pada elemen yang terlihat sebelumnya, mengingat semua karakter dihitung hingga saat ini, karakter apa selanjutnya?\n",
        "\n",
        "Membuat Trianing Set dan Target\n",
        "\n",
        "Selanjutnya bagilah teks menjadi contoh sequence. Setiap masukan sequence akan berisi karakter seq_length dari teks. Untuk setiap masukan sequence, target prediksi berisi teks dengan panjang yang sama, hanya digeser satu karakter ke kanan. Jadi, bagi teks menjadi beberapa bagian seq_length+1. Misalnya, seq_length adalah 4 dan teks kita adalah \"Hello\". Urutan masukannya adalah \"Hell\", dan urutan targetnya adalah \"ello\". Untuk melakukan ini, pertama-tama gunakan fungsi tf.data.Dataset.from_tensor_slices untuk mengonversi vektor teks menjadi aliran indeks karakter."
      ],
      "metadata": {
        "id": "XzVFX3Gdxroc"
      }
    },
    {
      "cell_type": "code",
      "source": [
        "all_ids = ids_from_chars(tf.strings.unicode_split(text, 'UTF-8'))\n",
        "all_ids"
      ],
      "metadata": {
        "colab": {
          "base_uri": "https://localhost:8080/"
        },
        "id": "KWA5U14ExrWR",
        "outputId": "f550e41e-3a94-454d-9347-0065d4b6468c"
      },
      "execution_count": 39,
      "outputs": [
        {
          "output_type": "execute_result",
          "data": {
            "text/plain": [
              "<tf.Tensor: shape=(1115394,), dtype=int64, numpy=array([19, 48, 57, ..., 46,  9,  1])>"
            ]
          },
          "metadata": {},
          "execution_count": 39
        }
      ]
    },
    {
      "cell_type": "code",
      "source": [
        "ids_dataset = tf.data.Dataset.from_tensor_slices(all_ids)"
      ],
      "metadata": {
        "id": "7NYOPDRLx7mG"
      },
      "execution_count": 40,
      "outputs": []
    },
    {
      "cell_type": "code",
      "source": [
        "for ids in ids_dataset.take(10):\n",
        "    print(chars_from_ids(ids).numpy().decode('utf-8'))"
      ],
      "metadata": {
        "colab": {
          "base_uri": "https://localhost:8080/"
        },
        "id": "SjTR7KXnx-Vo",
        "outputId": "c77b3219-74d1-4359-d546-ba3c557d1fb8"
      },
      "execution_count": 41,
      "outputs": [
        {
          "output_type": "stream",
          "name": "stdout",
          "text": [
            "F\n",
            "i\n",
            "r\n",
            "s\n",
            "t\n",
            " \n",
            "C\n",
            "i\n",
            "t\n",
            "i\n"
          ]
        }
      ]
    },
    {
      "cell_type": "code",
      "source": [
        "seq_length = 100"
      ],
      "metadata": {
        "id": "Ir5eK7yKyDyI"
      },
      "execution_count": 42,
      "outputs": []
    },
    {
      "cell_type": "markdown",
      "source": [
        "Metode batch memungkinkan Anda dengan mudah mengonversi karakter individual ini menjadi urutan ukuran yang diinginkan."
      ],
      "metadata": {
        "id": "rh7efrExyGFf"
      }
    },
    {
      "cell_type": "code",
      "source": [
        "sequences = ids_dataset.batch(seq_length+1, drop_remainder=True)\n",
        "\n",
        "for seq in sequences.take(1):\n",
        "  print(chars_from_ids(seq))"
      ],
      "metadata": {
        "colab": {
          "base_uri": "https://localhost:8080/"
        },
        "id": "3hntb3zuyFU5",
        "outputId": "6c74f038-ec0c-4644-e028-fd40e170424e"
      },
      "execution_count": 43,
      "outputs": [
        {
          "output_type": "stream",
          "name": "stdout",
          "text": [
            "tf.Tensor(\n",
            "[b'F' b'i' b'r' b's' b't' b' ' b'C' b'i' b't' b'i' b'z' b'e' b'n' b':'\n",
            " b'\\n' b'B' b'e' b'f' b'o' b'r' b'e' b' ' b'w' b'e' b' ' b'p' b'r' b'o'\n",
            " b'c' b'e' b'e' b'd' b' ' b'a' b'n' b'y' b' ' b'f' b'u' b'r' b't' b'h'\n",
            " b'e' b'r' b',' b' ' b'h' b'e' b'a' b'r' b' ' b'm' b'e' b' ' b's' b'p'\n",
            " b'e' b'a' b'k' b'.' b'\\n' b'\\n' b'A' b'l' b'l' b':' b'\\n' b'S' b'p' b'e'\n",
            " b'a' b'k' b',' b' ' b's' b'p' b'e' b'a' b'k' b'.' b'\\n' b'\\n' b'F' b'i'\n",
            " b'r' b's' b't' b' ' b'C' b'i' b't' b'i' b'z' b'e' b'n' b':' b'\\n' b'Y'\n",
            " b'o' b'u' b' '], shape=(101,), dtype=string)\n"
          ]
        }
      ]
    },
    {
      "cell_type": "markdown",
      "source": [
        "Untuk pelatihan, memerlukan kumpulan data pasangan (input, label). Dimana input dan label merupakan urutan. Pada setiap langkah waktu, inputnya adalah karakter saat ini dan labelnya adalah karakter berikutnya. Berikut adalah fungsi yang mengambil urutan sebagai masukan, menduplikasi, dan menggesernya untuk menyelaraskan masukan dan label untuk setiap langkah waktu:"
      ],
      "metadata": {
        "id": "Vm8yRHlwyKKW"
      }
    },
    {
      "cell_type": "code",
      "source": [
        "for seq in sequences.take(5):\n",
        "  print(text_from_ids(seq).numpy())"
      ],
      "metadata": {
        "colab": {
          "base_uri": "https://localhost:8080/"
        },
        "id": "Gmbv5GOt6lEf",
        "outputId": "47e4be3b-541f-408e-a258-cba37156475d"
      },
      "execution_count": 48,
      "outputs": [
        {
          "output_type": "stream",
          "name": "stdout",
          "text": [
            "b'First Citizen:\\nBefore we proceed any further, hear me speak.\\n\\nAll:\\nSpeak, speak.\\n\\nFirst Citizen:\\nYou '\n",
            "b'are all resolved rather to die than to famish?\\n\\nAll:\\nResolved. resolved.\\n\\nFirst Citizen:\\nFirst, you k'\n",
            "b\"now Caius Marcius is chief enemy to the people.\\n\\nAll:\\nWe know't, we know't.\\n\\nFirst Citizen:\\nLet us ki\"\n",
            "b\"ll him, and we'll have corn at our own price.\\nIs't a verdict?\\n\\nAll:\\nNo more talking on't; let it be d\"\n",
            "b'one: away, away!\\n\\nSecond Citizen:\\nOne word, good citizens.\\n\\nFirst Citizen:\\nWe are accounted poor citi'\n"
          ]
        }
      ]
    },
    {
      "cell_type": "code",
      "source": [
        "def split_input_target(sequence):\n",
        "  input_text = sequence[:-1]\n",
        "  target_text = sequence[1:]\n",
        "  return input_text, target_text"
      ],
      "metadata": {
        "id": "8j5WGkwCyPQ4"
      },
      "execution_count": 49,
      "outputs": []
    },
    {
      "cell_type": "code",
      "source": [
        "split_input_target(list(\"Tensorflow\"))"
      ],
      "metadata": {
        "colab": {
          "base_uri": "https://localhost:8080/"
        },
        "id": "X3s6QFrGyQps",
        "outputId": "3f942b6e-4db3-4985-846a-f25feaedbbc3"
      },
      "execution_count": 50,
      "outputs": [
        {
          "output_type": "execute_result",
          "data": {
            "text/plain": [
              "(['T', 'e', 'n', 's', 'o', 'r', 'f', 'l', 'o'],\n",
              " ['e', 'n', 's', 'o', 'r', 'f', 'l', 'o', 'w'])"
            ]
          },
          "metadata": {},
          "execution_count": 50
        }
      ]
    },
    {
      "cell_type": "code",
      "source": [
        "split_input_target(list(\"Tensorflow\"))"
      ],
      "metadata": {
        "colab": {
          "base_uri": "https://localhost:8080/"
        },
        "id": "0Gxp-wlbyXWd",
        "outputId": "fd0969b6-5dfa-4b86-9e06-edaea58347f0"
      },
      "execution_count": 51,
      "outputs": [
        {
          "output_type": "execute_result",
          "data": {
            "text/plain": [
              "(['T', 'e', 'n', 's', 'o', 'r', 'f', 'l', 'o'],\n",
              " ['e', 'n', 's', 'o', 'r', 'f', 'l', 'o', 'w'])"
            ]
          },
          "metadata": {},
          "execution_count": 51
        }
      ]
    },
    {
      "cell_type": "code",
      "source": [
        "dataset = sequences.map(split_input_target)"
      ],
      "metadata": {
        "id": "94edZtTi6vEf"
      },
      "execution_count": 52,
      "outputs": []
    },
    {
      "cell_type": "code",
      "source": [
        "for input_example, target_example in dataset.take(1):\n",
        "  print(\"Input :\", text_from_ids(input_example).numpy())\n",
        "  print(\"Target:\", text_from_ids(target_example).numpy())"
      ],
      "metadata": {
        "colab": {
          "base_uri": "https://localhost:8080/"
        },
        "id": "9XYpvbvfyY9q",
        "outputId": "e67758d3-7ab3-4b16-f96b-9621ebc3b6f5"
      },
      "execution_count": 54,
      "outputs": [
        {
          "output_type": "stream",
          "name": "stdout",
          "text": [
            "Input : b'First Citizen:\\nBefore we proceed any further, hear me speak.\\n\\nAll:\\nSpeak, speak.\\n\\nFirst Citizen:\\nYou'\n",
            "Target: b'irst Citizen:\\nBefore we proceed any further, hear me speak.\\n\\nAll:\\nSpeak, speak.\\n\\nFirst Citizen:\\nYou '\n"
          ]
        }
      ]
    },
    {
      "cell_type": "markdown",
      "source": [
        "**Membuat Batch Training**"
      ],
      "metadata": {
        "id": "q7Bph9BEygUl"
      }
    },
    {
      "cell_type": "markdown",
      "source": [
        "Menggunakan tf.data untuk membagi teks menjadi sequence yang dapat diatur. Namun sebelum memasukkan data ini ke dalam model, perlu mengacak data dan mengemasnya ke dalam batch."
      ],
      "metadata": {
        "id": "UUpcE8F4yke4"
      }
    },
    {
      "cell_type": "code",
      "source": [
        "# Batch size\n",
        "BATCH_SIZE = 64\n",
        "\n",
        "# Buffer size to shuffle the dataset\n",
        "# (TF data is designed to work with possibly infinite sequences,\n",
        "# so it doesn't attempt to shuffle the entire sequence in memory. Instead,\n",
        "# it maintains a buffer in which it shuffles elements).\n",
        "BUFFER_SIZE = 10000\n",
        "\n",
        "dataset = (\n",
        "    dataset\n",
        "    .shuffle(BUFFER_SIZE)\n",
        "    .batch(BATCH_SIZE, drop_remainder=True)\n",
        "    .prefetch(tf.data.experimental.AUTOTUNE))\n",
        "\n",
        "dataset"
      ],
      "metadata": {
        "colab": {
          "base_uri": "https://localhost:8080/"
        },
        "id": "sjAwLVmnykE_",
        "outputId": "ef8d9abf-bc7b-4f17-e347-2bc6bd191786"
      },
      "execution_count": 55,
      "outputs": [
        {
          "output_type": "execute_result",
          "data": {
            "text/plain": [
              "<_PrefetchDataset element_spec=(TensorSpec(shape=(64, 100), dtype=tf.int64, name=None), TensorSpec(shape=(64, 100), dtype=tf.int64, name=None))>"
            ]
          },
          "metadata": {},
          "execution_count": 55
        }
      ]
    },
    {
      "cell_type": "markdown",
      "source": [
        "**Buat Model**\n",
        "\n",
        "Model yang kita bangun memiliki 3 lapisan neural network :\n",
        "- tf.keras.layers.Embedding: Lapisan masukan. Tabel pencarian yang dapat dilatih yang akan memetakan setiap karakter-ID ke vektor dengan dimensi embedding_dim;\n",
        "- tf.keras.layers.GRU: lapisan RNN dengan ukuran unit=rnn_units (Anda juga dapat menggunakan lapisan LSTM di sini.)\n",
        "- tf.keras.layers.Dense: Lapisan keluaran, dengan keluaran vocab_size. Ini menghasilkan satu logit untuk setiap karakter dalam kosakata. Ini adalah log kemungkinan setiap karakter menurut model."
      ],
      "metadata": {
        "id": "uPV3LxGgyrZ3"
      }
    },
    {
      "cell_type": "code",
      "source": [
        "# Length of the vocabulary in StringLookup Layer\n",
        "vocab_size = len(ids_from_chars.get_vocabulary())\n",
        "\n",
        "# The embedding dimension\n",
        "embedding_dim = 256\n",
        "\n",
        "# Number of RNN units\n",
        "rnn_units = 1024"
      ],
      "metadata": {
        "id": "mk-ZEwu9y0GP"
      },
      "execution_count": 56,
      "outputs": []
    },
    {
      "cell_type": "code",
      "source": [
        "class MyModel(tf.keras.Model):\n",
        "  def __init__(self, vocab_size, embedding_dim, rnn_units):\n",
        "    super().__init__(self)\n",
        "    self.embedding = tf.keras.layers.Embedding(vocab_size, embedding_dim)\n",
        "    self.gru = tf.keras.layers.GRU(rnn_units,\n",
        "                                   return_sequences=True,\n",
        "                                   return_state=True)\n",
        "    self.dense = tf.keras.layers.Dense(vocab_size)\n",
        "\n",
        "  def call(self, inputs, states=None, return_state=False, training=False):\n",
        "    x = inputs\n",
        "    x = self.embedding(x, training=training)\n",
        "    if states is None:\n",
        "      states = self.gru.get_initial_state(x)\n",
        "    x, states = self.gru(x, initial_state=states, training=training)\n",
        "    x = self.dense(x, training=training)\n",
        "\n",
        "    if return_state:\n",
        "      return x, states\n",
        "    else:\n",
        "      return x"
      ],
      "metadata": {
        "id": "g83mQV1Uy26e"
      },
      "execution_count": 57,
      "outputs": []
    },
    {
      "cell_type": "code",
      "source": [
        "model = MyModel(\n",
        "    vocab_size=vocab_size,\n",
        "    embedding_dim=embedding_dim,\n",
        "    rnn_units=rnn_units)"
      ],
      "metadata": {
        "id": "uIEbAcKwy5N_"
      },
      "execution_count": 58,
      "outputs": []
    },
    {
      "cell_type": "markdown",
      "source": [
        "**Uji Model**"
      ],
      "metadata": {
        "id": "AOiy3weIy60w"
      }
    },
    {
      "cell_type": "markdown",
      "source": [
        "cek bentuk dari output"
      ],
      "metadata": {
        "id": "14X4kndTy-yf"
      }
    },
    {
      "cell_type": "code",
      "source": [
        "for input_example_batch, target_example_batch in dataset.take(1):\n",
        "    example_batch_predictions = model(input_example_batch)\n",
        "    print(example_batch_predictions.shape, \"# (batch_size, sequence_length, vocab_size)\")"
      ],
      "metadata": {
        "colab": {
          "base_uri": "https://localhost:8080/"
        },
        "id": "-KtmEfEmzBnX",
        "outputId": "602f5d91-eac3-411d-f532-76d29a8a6a72"
      },
      "execution_count": 59,
      "outputs": [
        {
          "output_type": "stream",
          "name": "stdout",
          "text": [
            "(64, 100, 66) # (batch_size, sequence_length, vocab_size)\n"
          ]
        }
      ]
    },
    {
      "cell_type": "markdown",
      "source": [
        "Dalam contoh di atas, panjang urutan masukan adalah 100 tetapi model dapat dijalankan pada masukan dengan panjang berapa pun:"
      ],
      "metadata": {
        "id": "diiy6jjFzDYa"
      }
    },
    {
      "cell_type": "code",
      "source": [
        "model.summary()"
      ],
      "metadata": {
        "colab": {
          "base_uri": "https://localhost:8080/"
        },
        "id": "-VRYiplSzF1T",
        "outputId": "fc4f8312-8994-4ec5-bcaf-1c6bfa4a81ba"
      },
      "execution_count": 60,
      "outputs": [
        {
          "output_type": "stream",
          "name": "stdout",
          "text": [
            "Model: \"my_model\"\n",
            "_________________________________________________________________\n",
            " Layer (type)                Output Shape              Param #   \n",
            "=================================================================\n",
            " embedding_2 (Embedding)     multiple                  16896     \n",
            "                                                                 \n",
            " gru (GRU)                   multiple                  3938304   \n",
            "                                                                 \n",
            " dense_4 (Dense)             multiple                  67650     \n",
            "                                                                 \n",
            "=================================================================\n",
            "Total params: 4022850 (15.35 MB)\n",
            "Trainable params: 4022850 (15.35 MB)\n",
            "Non-trainable params: 0 (0.00 Byte)\n",
            "_________________________________________________________________\n"
          ]
        }
      ]
    },
    {
      "cell_type": "markdown",
      "source": [
        "Untuk mendapatkan prediksi aktual dari model, perlu mengambil sampel dari distribusi keluaran, untuk mendapatkan indeks karakter aktual. Distribusi ini ditentukan oleh logit pada kosakata karakter. Catatan: Penting untuk mengambil sampel dari distribusi ini karena mengambil argmax dari distribusi tersebut dapat dengan mudah membuat model terjebak dalam infinote loop. Cobalah untuk contoh pertama di batch:"
      ],
      "metadata": {
        "id": "oBAtYdY6zISW"
      }
    },
    {
      "cell_type": "code",
      "source": [
        "sampled_indices = tf.random.categorical(example_batch_predictions[0], num_samples=1)\n",
        "sampled_indices = tf.squeeze(sampled_indices, axis=-1).numpy()"
      ],
      "metadata": {
        "id": "dhYL50_GzNmA"
      },
      "execution_count": 61,
      "outputs": []
    },
    {
      "cell_type": "markdown",
      "source": [
        "Hal ini memberi kita, pada setiap langkah waktu, prediksi indeks karakter berikutnya:"
      ],
      "metadata": {
        "id": "fxYQ4nwdzVVl"
      }
    },
    {
      "cell_type": "code",
      "source": [
        "sampled_indices"
      ],
      "metadata": {
        "colab": {
          "base_uri": "https://localhost:8080/"
        },
        "id": "U5YuoyirzWoa",
        "outputId": "7f064e77-2aee-42f0-92e6-2cf0f600b8a9"
      },
      "execution_count": 62,
      "outputs": [
        {
          "output_type": "execute_result",
          "data": {
            "text/plain": [
              "array([29, 56, 29, 60, 63, 44, 53, 43, 46,  1, 14,  3, 11, 42, 32, 62, 26,\n",
              "       57, 43, 29, 17,  5, 53, 36, 18, 28, 48, 60, 11,  5,  3, 43, 57, 51,\n",
              "       12,  7,  8, 45, 10,  6,  4, 54, 41, 29,  8, 23, 17, 17, 36,  3, 37,\n",
              "       58, 19, 19, 10, 24, 38, 41, 29, 51, 14,  9, 60, 24, 14, 32, 60, 63,\n",
              "       13, 35, 42, 58, 53, 64,  0, 16, 48, 23, 49, 50, 62, 30, 59, 62, 16,\n",
              "        9, 52, 26, 62, 41, 37, 60, 31,  2, 51, 20, 23, 64, 15, 51])"
            ]
          },
          "metadata": {},
          "execution_count": 62
        }
      ]
    },
    {
      "cell_type": "markdown",
      "source": [
        "Dekode kode berikut untuk melihat teks yang diprediksi oleh model tidak terlatih ini:"
      ],
      "metadata": {
        "id": "4R9i38akzdYL"
      }
    },
    {
      "cell_type": "code",
      "source": [
        "print(\"Input:\\n\", text_from_ids(input_example_batch[0]).numpy())\n",
        "print()\n",
        "print(\"Next Char Predictions:\\n\", text_from_ids(sampled_indices).numpy())"
      ],
      "metadata": {
        "colab": {
          "base_uri": "https://localhost:8080/"
        },
        "id": "6DbMu3QpzePE",
        "outputId": "76f9e629-80d7-46da-a07d-3c53b42f1368"
      },
      "execution_count": 63,
      "outputs": [
        {
          "output_type": "stream",
          "name": "stdout",
          "text": [
            "Input:\n",
            " b'ad forgot to tell your lordship,\\nTo-day, as I came by, I called there;\\nBut I shall grieve you to rep'\n",
            "\n",
            "Next Char Predictions:\n",
            " b\"PqPuxendg\\nA!:cSwMrdPD&nWEOiu:&!drl;,-f3'$obP-JDDW!XsFF3KYbPlA.uKASux?Vcsny[UNK]CiJjkwQtwC.mMwbXuR lGJyBl\"\n"
          ]
        }
      ]
    },
    {
      "cell_type": "markdown",
      "source": [
        "**Train Model**\n",
        "\n",
        "Pada titik ini permasalahan dapat dianggap sebagai permasalahan klasifikasi standar. Permasalahan dapat disimpulkan dengan : Berdasarkan status RNN sebelumnya, dan masukan langkah kali ini, prediksi kelas karakter berikutnya."
      ],
      "metadata": {
        "id": "4-gHA4hpzu-M"
      }
    },
    {
      "cell_type": "markdown",
      "source": [
        "Tambahan optimizer dan fungsi loss"
      ],
      "metadata": {
        "id": "NTm0l3vJz1L-"
      }
    },
    {
      "cell_type": "markdown",
      "source": [
        "loss function tf.keras.losses.sparse_categorical_crossentropy standar berfungsi dalam kasus ini karena diterapkan di seluruh dimensi terakhir prediksi. Karena model Anda mengembalikan logits, Anda perlu mengatur flag from_logits."
      ],
      "metadata": {
        "id": "3ZEp41PKz388"
      }
    },
    {
      "cell_type": "code",
      "source": [
        "loss = tf.losses.SparseCategoricalCrossentropy(from_logits=True)"
      ],
      "metadata": {
        "id": "ODQUR1rcz586"
      },
      "execution_count": 64,
      "outputs": []
    },
    {
      "cell_type": "code",
      "source": [
        "example_batch_mean_loss = loss(target_example_batch, example_batch_predictions)\n",
        "print(\"Prediction shape: \", example_batch_predictions.shape, \" # (batch_size, sequence_length, vocab_size)\")\n",
        "print(\"Mean loss:        \", example_batch_mean_loss)"
      ],
      "metadata": {
        "colab": {
          "base_uri": "https://localhost:8080/"
        },
        "id": "bcY7g3Ubz8n-",
        "outputId": "277e4088-8213-4b33-8f54-deed4d496077"
      },
      "execution_count": 65,
      "outputs": [
        {
          "output_type": "stream",
          "name": "stdout",
          "text": [
            "Prediction shape:  (64, 100, 66)  # (batch_size, sequence_length, vocab_size)\n",
            "Mean loss:         tf.Tensor(4.1895776, shape=(), dtype=float32)\n"
          ]
        }
      ]
    },
    {
      "cell_type": "markdown",
      "source": [
        "Model yang baru diinisialisasi tidak boleh terlalu yakin dengan dirinya sendiri, semua log keluaran harus memiliki besaran yang sama. Untuk mengonfirmasi hal ini, Anda dapat memeriksa bahwa eksponensial dari loss rata-rata harus kira-kira sama dengan ukuran kosakata. Loss yang jauh lebih tinggi berarti model tersebut yakin akan jawaban yang salah, dan memiliki inisialisasi yang buruk:"
      ],
      "metadata": {
        "id": "RnqkJ0Mhz-rY"
      }
    },
    {
      "cell_type": "code",
      "source": [
        "tf.exp(example_batch_mean_loss).numpy()"
      ],
      "metadata": {
        "colab": {
          "base_uri": "https://localhost:8080/"
        },
        "id": "1_dOiN5a0BG8",
        "outputId": "aae28784-7e44-4a38-a300-1629a97ca8c4"
      },
      "execution_count": 66,
      "outputs": [
        {
          "output_type": "execute_result",
          "data": {
            "text/plain": [
              "65.99491"
            ]
          },
          "metadata": {},
          "execution_count": 66
        }
      ]
    },
    {
      "cell_type": "markdown",
      "source": [
        "Konfigurasikan prosedur pelatihan menggunakan metode tf.keras.Model.compile. Gunakan tf.keras.optimizers.Adam dengan argumen default dan fungsi loss."
      ],
      "metadata": {
        "id": "9kQjcS150CjI"
      }
    },
    {
      "cell_type": "code",
      "source": [
        "model.compile(optimizer='adam', loss=loss)"
      ],
      "metadata": {
        "id": "UyK1Bbef0FEP"
      },
      "execution_count": 67,
      "outputs": []
    },
    {
      "cell_type": "markdown",
      "source": [
        "Konfigurasi Checkpoints\n",
        "\n",
        "Gunakan tf.keras.callbacks.ModelCheckpoint untuk memastikan bahwa checkpoint disimpan selama pelatihan:"
      ],
      "metadata": {
        "id": "B_FlQJEI0IpY"
      }
    },
    {
      "cell_type": "code",
      "source": [
        "# Directory where the checkpoints will be saved\n",
        "checkpoint_dir = './training_checkpoints'\n",
        "# Name of the checkpoint files\n",
        "checkpoint_prefix = os.path.join(checkpoint_dir, \"ckpt_{epoch}\")\n",
        "\n",
        "checkpoint_callback = tf.keras.callbacks.ModelCheckpoint(\n",
        "    filepath=checkpoint_prefix,\n",
        "    save_weights_only=True)"
      ],
      "metadata": {
        "id": "dvH9MvP90Lgu"
      },
      "execution_count": 68,
      "outputs": []
    },
    {
      "cell_type": "markdown",
      "source": [
        "Lakukan Proses Training\n",
        "\n",
        "Agar waktu pelatihan tidak terlalu lama, gunakan 10 epoch untuk melatih model. Di Colab, setel runtime ke GPU untuk pelatihan yang lebih cepat."
      ],
      "metadata": {
        "id": "FKCqSCSE0PNM"
      }
    },
    {
      "cell_type": "code",
      "source": [
        "EPOCHS = 20"
      ],
      "metadata": {
        "id": "SXBzvL_F0Qgr"
      },
      "execution_count": 69,
      "outputs": []
    },
    {
      "cell_type": "code",
      "source": [
        "history = model.fit(dataset, epochs=EPOCHS, callbacks=[checkpoint_callback])"
      ],
      "metadata": {
        "colab": {
          "base_uri": "https://localhost:8080/"
        },
        "id": "m5tXOd4Y0TcO",
        "outputId": "1758dc15-7c8a-4ede-b8ba-fdce8a4fd381"
      },
      "execution_count": 70,
      "outputs": [
        {
          "output_type": "stream",
          "name": "stdout",
          "text": [
            "Epoch 1/20\n",
            "172/172 [==============================] - 14s 59ms/step - loss: 2.6820\n",
            "Epoch 2/20\n",
            "172/172 [==============================] - 11s 57ms/step - loss: 1.9646\n",
            "Epoch 3/20\n",
            "172/172 [==============================] - 11s 57ms/step - loss: 1.6857\n",
            "Epoch 4/20\n",
            "172/172 [==============================] - 12s 57ms/step - loss: 1.5294\n",
            "Epoch 5/20\n",
            "172/172 [==============================] - 11s 56ms/step - loss: 1.4347\n",
            "Epoch 6/20\n",
            "172/172 [==============================] - 12s 57ms/step - loss: 1.3695\n",
            "Epoch 7/20\n",
            "172/172 [==============================] - 12s 58ms/step - loss: 1.3187\n",
            "Epoch 8/20\n",
            "172/172 [==============================] - 13s 58ms/step - loss: 1.2751\n",
            "Epoch 9/20\n",
            "172/172 [==============================] - 11s 56ms/step - loss: 1.2340\n",
            "Epoch 10/20\n",
            "172/172 [==============================] - 12s 57ms/step - loss: 1.1940\n",
            "Epoch 11/20\n",
            "172/172 [==============================] - 11s 56ms/step - loss: 1.1548\n",
            "Epoch 12/20\n",
            "172/172 [==============================] - 12s 56ms/step - loss: 1.1135\n",
            "Epoch 13/20\n",
            "172/172 [==============================] - 13s 56ms/step - loss: 1.0701\n",
            "Epoch 14/20\n",
            "172/172 [==============================] - 11s 56ms/step - loss: 1.0232\n",
            "Epoch 15/20\n",
            "172/172 [==============================] - 11s 56ms/step - loss: 0.9746\n",
            "Epoch 16/20\n",
            "172/172 [==============================] - 11s 57ms/step - loss: 0.9244\n",
            "Epoch 17/20\n",
            "172/172 [==============================] - 12s 57ms/step - loss: 0.8709\n",
            "Epoch 18/20\n",
            "172/172 [==============================] - 11s 56ms/step - loss: 0.8195\n",
            "Epoch 19/20\n",
            "172/172 [==============================] - 11s 57ms/step - loss: 0.7696\n",
            "Epoch 20/20\n",
            "172/172 [==============================] - 12s 57ms/step - loss: 0.7222\n"
          ]
        }
      ]
    },
    {
      "cell_type": "markdown",
      "source": [
        "**Generate Teks**"
      ],
      "metadata": {
        "id": "8JDuZfnA0Y1S"
      }
    },
    {
      "cell_type": "markdown",
      "source": [
        "Berikut ini membuat prediksi satu langkah:"
      ],
      "metadata": {
        "id": "AjeWHfoY0d0N"
      }
    },
    {
      "cell_type": "code",
      "source": [
        "class OneStep(tf.keras.Model):\n",
        "  def __init__(self, model, chars_from_ids, ids_from_chars, temperature=1.0):\n",
        "    super().__init__()\n",
        "    self.temperature = temperature\n",
        "    self.model = model\n",
        "    self.chars_from_ids = chars_from_ids\n",
        "    self.ids_from_chars = ids_from_chars\n",
        "\n",
        "    # Create a mask to prevent \"[UNK]\" from being generated.\n",
        "    skip_ids = self.ids_from_chars(['[UNK]'])[:, None]\n",
        "    sparse_mask = tf.SparseTensor(\n",
        "        # Put a -inf at each bad index.\n",
        "        values=[-float('inf')]*len(skip_ids),\n",
        "        indices=skip_ids,\n",
        "        # Match the shape to the vocabulary\n",
        "        dense_shape=[len(ids_from_chars.get_vocabulary())])\n",
        "    self.prediction_mask = tf.sparse.to_dense(sparse_mask)\n",
        "\n",
        "  @tf.function\n",
        "  def generate_one_step(self, inputs, states=None):\n",
        "    # Convert strings to token IDs.\n",
        "    input_chars = tf.strings.unicode_split(inputs, 'UTF-8')\n",
        "    input_ids = self.ids_from_chars(input_chars).to_tensor()\n",
        "\n",
        "    # Run the model.\n",
        "    # predicted_logits.shape is [batch, char, next_char_logits]\n",
        "    predicted_logits, states = self.model(inputs=input_ids, states=states,\n",
        "                                          return_state=True)\n",
        "    # Only use the last prediction.\n",
        "    predicted_logits = predicted_logits[:, -1, :]\n",
        "    predicted_logits = predicted_logits/self.temperature\n",
        "    # Apply the prediction mask: prevent \"[UNK]\" from being generated.\n",
        "    predicted_logits = predicted_logits + self.prediction_mask\n",
        "\n",
        "    # Sample the output logits to generate token IDs.\n",
        "    predicted_ids = tf.random.categorical(predicted_logits, num_samples=1)\n",
        "    predicted_ids = tf.squeeze(predicted_ids, axis=-1)\n",
        "\n",
        "    # Convert from token ids to characters\n",
        "    predicted_chars = self.chars_from_ids(predicted_ids)\n",
        "\n",
        "    # Return the characters and model state.\n",
        "    return predicted_chars, states"
      ],
      "metadata": {
        "id": "-08CtOlW0fse"
      },
      "execution_count": 71,
      "outputs": []
    },
    {
      "cell_type": "code",
      "source": [
        "one_step_model = OneStep(model, chars_from_ids, ids_from_chars)"
      ],
      "metadata": {
        "id": "NxfZUo7o0i-i"
      },
      "execution_count": 72,
      "outputs": []
    },
    {
      "cell_type": "markdown",
      "source": [
        "Jalankan secara berulang untuk menghasilkan beberapa teks. Melihat teks yang dihasilkan, Anda akan melihat model mengetahui kapan harus menggunakan huruf besar, membuat paragraf, dan meniru kosakata menulis seperti Shakespeare. Karena sedikitnya jumlah epoch pelatihan, model belum belajar membentuk kalimat runtut."
      ],
      "metadata": {
        "id": "qtTxTFuE0nuB"
      }
    },
    {
      "cell_type": "code",
      "source": [
        "start = time.time()\n",
        "states = None\n",
        "next_char = tf.constant(['ROMEO:'])\n",
        "result = [next_char]\n",
        "\n",
        "for n in range(1000):\n",
        "  next_char, states = one_step_model.generate_one_step(next_char, states=states)\n",
        "  result.append(next_char)\n",
        "\n",
        "result = tf.strings.join(result)\n",
        "end = time.time()\n",
        "print(result[0].numpy().decode('utf-8'), '\\n\\n' + '_'*80)\n",
        "print('\\nRun time:', end - start)"
      ],
      "metadata": {
        "colab": {
          "base_uri": "https://localhost:8080/"
        },
        "id": "HcEP-ixm0r9n",
        "outputId": "ac376514-73ec-478e-bbe8-4140b6851eb2"
      },
      "execution_count": 73,
      "outputs": [
        {
          "output_type": "stream",
          "name": "stdout",
          "text": [
            "ROMEO:\n",
            "This deed fast bowel, the next news is full of me.\n",
            "\n",
            "TRANIO:\n",
            "Pries a gentle prayers, sir.\n",
            "\n",
            "PETRUCHIO:\n",
            "Well get you hence, but not at that government.\n",
            "I know them both; and then we should have seen.\n",
            "\n",
            "DUKE VINCENTIO:\n",
            "you are washed with the wars. O sluty!\n",
            "\n",
            "TRANIO:\n",
            "A pair of second careless, till he be married?\n",
            "\n",
            "LADY CAPULET:\n",
            "That men of Lancaster is mine, or our kind Counteous,\n",
            "The raship widold life death of our queen:\n",
            "'Tis like she kneel, and he: these were his valiant-house!\n",
            "Thou art sweeter and those laws\n",
            "To lear upon death, my God, my lord,\n",
            "If good an idly sing to me asks\n",
            "To be yet wrong; and he thou like to respect.\n",
            "\n",
            "DUKE VINCENTIO:\n",
            "You woo'd the house of Norfolk know him once for any honour,\n",
            "Ready's crucking awe great queen's; that I should come about with him;\n",
            "And even of purchase of his fine arms,\n",
            "To greet me full of victory all;\n",
            "For I am one o' the king.\n",
            "\n",
            "GONZALO:\n",
            "I'll do a wind a thousand out.\n",
            "\n",
            "CLAUDIO:\n",
            "Thanks, nor my agree.\n",
            "\n",
            "MENENIUS:\n",
            "'Tis to qualified; I cannot hang\n",
            "He be no \n",
            "\n",
            "________________________________________________________________________________\n",
            "\n",
            "Run time: 4.250616550445557\n"
          ]
        }
      ]
    },
    {
      "cell_type": "markdown",
      "source": [
        "Hal termudah yang dapat dilakukan untuk meningkatkan hasil adalah dengan melatihnya lebih lama (coba EPOCHS = 30). Juga dapat bereksperimen dengan string awal yang berbeda, mencoba menambahkan lapisan RNN lain untuk meningkatkan akurasi model, atau menyesuaikan parameter suhu untuk menghasilkan prediksi yang kurang lebih acak.\n",
        "\n",
        "Jika ingin model menghasilkan teks lebih cepat, hal termudah yang dapat dilakukan adalah membuat teks secara batch. Pada contoh di bawah, model menghasilkan 5 keluaran dalam waktu yang hampir sama dengan waktu yang dibutuhkan untuk menghasilkan 1 keluaran di atas."
      ],
      "metadata": {
        "id": "MVu8iQmt0vhp"
      }
    },
    {
      "cell_type": "code",
      "source": [
        "start = time.time()\n",
        "states = None\n",
        "next_char = tf.constant(['ROMEO:', 'ROMEO:', 'ROMEO:', 'ROMEO:', 'ROMEO:'])\n",
        "result = [next_char]\n",
        "\n",
        "for n in range(1000):\n",
        "  next_char, states = one_step_model.generate_one_step(next_char, states=states)\n",
        "  result.append(next_char)\n",
        "\n",
        "result = tf.strings.join(result)\n",
        "end = time.time()\n",
        "print(result, '\\n\\n' + '_'*80)\n",
        "print('\\nRun time:', end - start)"
      ],
      "metadata": {
        "colab": {
          "base_uri": "https://localhost:8080/"
        },
        "id": "UYSS3S8h039h",
        "outputId": "705a6277-3d5e-4058-84ec-3ef609519d89"
      },
      "execution_count": 74,
      "outputs": [
        {
          "output_type": "stream",
          "name": "stdout",
          "text": [
            "tf.Tensor(\n",
            "[b\"ROMEO:\\nThe first six of her breath for here,--mine own\\nHot I replied them for the lest, for they\\nSend for their sons, whom we may call the bridal den.\\nMy father and the tempest that I bear\\nA word of brave dear Gaunt-favour,' dost thou his hate,\\nBereaves me but a torth discourse, let no man prove\\nminewelling: though 't beated death of my daughter's master,\\nAnd bear him to a gentle prince,\\nYounger-claughs, and who till men's head\\nAs thou hast the end o'll her hence.\\n\\nHASTINGS:\\nI beseech her my lord, who latel to open till now,\\nThat is no wind, though bringing law,\\nAs my trespass shot, sweet. Construe imagine!\\nAll the sheph brought the common poison\\nA dram of cury dogn to--the titie's place;\\nThy bouth thy sword to do with thee as great\\nAs I will have their maidsales, himself your lord of him\\nHave tyrant a plain fellows shall pity\\n'Tis very true: thou whither it begins our hopes\\nThat stabb'd you would lay aside me us as a gam\\nA meal backetors, set, and wither do\\nIt stronger than: how presenve to\"\n",
            " b\"ROMEO:\\nThe posses of the hatched in me to auft resolved again\\nof your kind a die.\\n\\nTRANIO:\\nFirst, to with my Romeo's father.--\\nCORIOLANUS:\\nI am supposed of them; but\\nI'll play the gods therecorage:\\nThe king shall promise their fence crubled will\\nMy body couched in the Roman.\\n\\nANTONIO:\\nNone but that thou hast shown.\\nWhat you will have it servant:\\nAn in his wind-swift courage for a child,\\nTo make the manage of thy mirth o' the body\\nWith one speech to you that I but leather.\\n\\nThird Citizen:\\nFor the good cousin, come, follow. Speak not the emboat of the child,\\nTo fled his own goodness is some storm'd\\nWith vail on 'to his life; and let\\nThe fliers are none must die.\\n\\nLUCIO:\\n\\nISABELLA:\\nBy the fire-exchangement that kill'd you?\\n\\nAUTOLYCUS:\\nTell light to me in some other bounty.'\\n\\nPOMPEY:\\nII to 'ted him to the georer, and the presence then;\\nOur audies let 'lady' as an old atemps. By Angelo!\\nIf those that can shall or you all for Claudio.\\n\\nBRUTUS:\\nWell, I dusicile well\\nenter his youth. There must the \"\n",
            " b\"ROMEO:\\nShe is not saint, take nollow thine. To here promise of her\\nTo make him what o'clock you now;\\nDouble north and charge her fasting: gut further deaths.\\n\\nKATHARINA:\\nMy gracious sovereign;\\nYou wrong'd to him that suffer lawful. Nay, more, Marcius!\\n\\nFLORIZEL:\\nShe will not.\\n\\nPETRUCHIO:\\nWhat!\\nA rain it kiss; a merry man, give ut you understand;\\nMyself, being one that loves and unmercy stare\\nTo say it shall. Quent you, take thou this:\\n'Then must my daughter.\\n\\nPETRUCHIO:\\nCome, cousin, let us go:\\nIf this is Else where you should bear me?\\n\\nFLORIZEL:\\nI cannot light of beauty:\\nShe hath so, fain provoked joy.\\n\\nFRIAR LAURENCE:\\nThat's my dagger. I for these report of it.\\nWhat heaven of the feast so qualities at the wife,\\nSometimes to sea make this mean to fear: he has been\\nTheir morned wars and painted them well, know\\nThat's summers leave to put away our sacred wind;\\nNo, not that's fain beather's great daughter.\\n\\nJULIET:\\nWhy, ha, go not: then.\\n\\nBIONDELLO:\\nThen kill me word:\\nThere's some foreog as sh\"\n",
            " b\"ROMEO:\\nRomeo can, sir? Walk: who pass may between excused me to me.\\n\\nGREY:\\nPlay now, Curisla, be thunder blood,\\nConcluding one any hope in't it not; for then\\nwho part not: 'tis now I can a desperation. Tell me, Take, trayio, sir; for I am\\nThe mystech in members gaze out a sign: or he\\nwas guesten'd at Oxford accourt measure from\\nSuch dances and restrain to touch a husband.\\n\\nLADY ANNE:\\nWhat\\nmeant his soul Prote! I'll mean no great as thou\\nwilt not be metal, yet you do means,\\nUnto their guiltless liberty.\\n\\nCAPULET:\\nTill then, thy father fears more than\\na poison.'\\n\\nGREMIO:\\nAy, widow! farewell; I would come with death,\\nVillain, the king doth night; thou wilt have\\nDiz keaved me with the father and\\nTo blaze from thy remembranue's bosom,\\nAnd what thou wilt fall'd in the chapel?\\n\\nThird Yorth:\\nSir, thou canst dia chrons conveying nature that\\nAn ielly shunn'd as any courtesy,\\nas inhamobities and rights, gracious daughter,\\nOnly their petitions attend on him.\\n\\nLord Mayor:\\nGod glang me of what a seeming\\nd\"\n",
            " b\"ROMEO:\\nGramercied and noble princes: Awakes, and leave out them\\nTo live with him that didst ungrovish it.\\n\\nPARIS:\\nHin our process she promise, my two fair people\\nWill be as rave appeared upon their children;\\nIn this side Mantua, with two triving\\nThan you, if it not stir a wife and a\\nOne confederate, who, were it creation,\\nTo bathe justice way out with the king;\\nOf these over-mear to him and I\\nNew run an out, I'll give your actions in\\nyour excellent.\\n\\nProvost:\\nI would above our day.\\n\\nProvost:\\nTo them, if you find me lion away.\\n\\nPETER:\\nI, ay.\\n\\nGood: the apprehension-ow show death,\\nThe might begin once rose against me on\\nthat pain of his usurping means: now arts\\nOn what: but she, 'tis far to king is, Child on\\nThe familiar selsces, four way to take leave of you!\\nForbear to faith, he'll lune to a golden her; swear by,\\nNor read the untim lovers\\nThat bid good morthle, sound he staded at home\\nThe heavens have done, to raise me still not neave,\\nI new aptarch of your bids to reign usurp,\\nHasting to de\"], shape=(5,), dtype=string) \n",
            "\n",
            "________________________________________________________________________________\n",
            "\n",
            "Run time: 3.5323092937469482\n"
          ]
        }
      ]
    },
    {
      "cell_type": "markdown",
      "source": [
        "**Ekspor Model Generator**\n",
        "\n",
        "Model satu langkah ini dapat dengan mudah disimpan dan digunakan kembali, memungkinkan Anda menggunakannya di mana pun tf.saved_model diterima."
      ],
      "metadata": {
        "id": "DR_ObR9z07Is"
      }
    },
    {
      "cell_type": "code",
      "source": [
        "tf.saved_model.save(one_step_model, 'one_step')\n",
        "one_step_reloaded = tf.saved_model.load('one_step')"
      ],
      "metadata": {
        "colab": {
          "base_uri": "https://localhost:8080/"
        },
        "id": "CGlyzsQb1AdS",
        "outputId": "acfe24c3-1dc2-4952-b4dd-0dd4b797f1dc"
      },
      "execution_count": 75,
      "outputs": [
        {
          "output_type": "stream",
          "name": "stderr",
          "text": [
            "WARNING:tensorflow:Skipping full serialization of Keras layer <__main__.OneStep object at 0x7ec017b84c10>, because it is not built.\n",
            "WARNING:tensorflow:Model's `__init__()` arguments contain non-serializable objects. Please implement a `get_config()` method in the subclassed Model for proper saving and loading. Defaulting to empty config.\n",
            "WARNING:tensorflow:Model's `__init__()` arguments contain non-serializable objects. Please implement a `get_config()` method in the subclassed Model for proper saving and loading. Defaulting to empty config.\n"
          ]
        }
      ]
    },
    {
      "cell_type": "code",
      "source": [
        "states = None\n",
        "next_char = tf.constant(['ROMEO:'])\n",
        "result = [next_char]\n",
        "\n",
        "for n in range(100):\n",
        "  next_char, states = one_step_reloaded.generate_one_step(next_char, states=states)\n",
        "  result.append(next_char)\n",
        "\n",
        "print(tf.strings.join(result)[0].numpy().decode(\"utf-8\"))"
      ],
      "metadata": {
        "colab": {
          "base_uri": "https://localhost:8080/"
        },
        "id": "rh7XlEL71CVj",
        "outputId": "ffccf105-51ea-4539-900e-e3957106884f"
      },
      "execution_count": 76,
      "outputs": [
        {
          "output_type": "stream",
          "name": "stdout",
          "text": [
            "ROMEO:\n",
            "The soldiers for the ground I slide to have.\n",
            "Set it down. Is it farther of the maid:\n",
            "If I did shall\n"
          ]
        }
      ]
    }
  ],
  "metadata": {
    "colab": {
      "provenance": [],
      "gpuType": "T4",
      "authorship_tag": "ABX9TyOtD8qgyEidiHAE5vqdGytZ",
      "include_colab_link": true
    },
    "kernelspec": {
      "display_name": "Python 3",
      "name": "python3"
    },
    "language_info": {
      "name": "python"
    },
    "accelerator": "GPU"
  },
  "nbformat": 4,
  "nbformat_minor": 0
}